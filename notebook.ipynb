{
 "cells": [
  {
   "cell_type": "code",
   "execution_count": 15,
   "metadata": {},
   "outputs": [],
   "source": [
    "def solution(msg):\n",
    "    import collections\n",
    "    # make q\n",
    "    q = collections.deque()\n",
    "    for char in msg: #O(n)\n",
    "        q.append(char)\n",
    "    # make a index dic\n",
    "    dic = dict()\n",
    "    min_idx = ord('A')\n",
    "    max_idx = ord('Z')\n",
    "    for i in range(1, 27):\n",
    "        dic[chr(min_idx+i-1)] = i\n",
    "\n",
    "    largest_idx = 26\n",
    "    answer = []\n",
    "    while q:\n",
    "        # print(q)\n",
    "        w = q.popleft()\n",
    "        c= \"\"\n",
    "        for i in range(len(q)):\n",
    "            if w + q[0] in dic:\n",
    "                w = w+ q[0]\n",
    "                q.popleft()\n",
    "            else:\n",
    "                c = q[0]\n",
    "                break\n",
    "        # print(w+c)\n",
    "        # 단어출력\n",
    "        answer.append(dic[w])\n",
    "        # 단어추가\n",
    "        dic[w+c] = largest_idx+1\n",
    "        largest_idx = largest_idx+1\n",
    "        \n",
    "\n",
    "    return answer"
   ]
  },
  {
   "cell_type": "code",
   "execution_count": 16,
   "metadata": {},
   "outputs": [
    {
     "data": {
      "text/plain": [
       "[1, 2, 27, 29, 28, 31, 30]"
      ]
     },
     "execution_count": 16,
     "metadata": {},
     "output_type": "execute_result"
    }
   ],
   "source": [
    "msg = \"ABABABABABABABAB\"\n",
    "solution(msg)"
   ]
  },
  {
   "cell_type": "code",
   "execution_count": null,
   "metadata": {},
   "outputs": [],
   "source": []
  }
 ],
 "metadata": {
  "kernelspec": {
   "display_name": "base",
   "language": "python",
   "name": "python3"
  },
  "language_info": {
   "codemirror_mode": {
    "name": "ipython",
    "version": 3
   },
   "file_extension": ".py",
   "mimetype": "text/x-python",
   "name": "python",
   "nbconvert_exporter": "python",
   "pygments_lexer": "ipython3",
   "version": "3.9.12"
  },
  "orig_nbformat": 4
 },
 "nbformat": 4,
 "nbformat_minor": 2
}
