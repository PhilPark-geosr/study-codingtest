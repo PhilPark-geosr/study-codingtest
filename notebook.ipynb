{
 "cells": [
  {
   "cell_type": "code",
   "execution_count": 15,
   "metadata": {},
   "outputs": [],
   "source": [
    "def solution(msg):\n",
    "    import collections\n",
    "    # make q\n",
    "    q = collections.deque()\n",
    "    for char in msg: #O(n)\n",
    "        q.append(char)\n",
    "    # make a index dic\n",
    "    dic = dict()\n",
    "    min_idx = ord('A')\n",
    "    max_idx = ord('Z')\n",
    "    for i in range(1, 27):\n",
    "        dic[chr(min_idx+i-1)] = i\n",
    "\n",
    "    largest_idx = 26\n",
    "    answer = []\n",
    "    while q:\n",
    "        # print(q)\n",
    "        w = q.popleft()\n",
    "        c= \"\"\n",
    "        for i in range(len(q)):\n",
    "            if w + q[0] in dic:\n",
    "                w = w+ q[0]\n",
    "                q.popleft()\n",
    "            else:\n",
    "                c = q[0]\n",
    "                break\n",
    "        # print(w+c)\n",
    "        # 단어출력\n",
    "        answer.append(dic[w])\n",
    "        # 단어추가\n",
    "        dic[w+c] = largest_idx+1\n",
    "        largest_idx = largest_idx+1\n",
    "        \n",
    "\n",
    "    return answer"
   ]
  },
  {
   "cell_type": "code",
   "execution_count": 16,
   "metadata": {},
   "outputs": [
    {
     "data": {
      "text/plain": [
       "[1, 2, 27, 29, 28, 31, 30]"
      ]
     },
     "execution_count": 16,
     "metadata": {},
     "output_type": "execute_result"
    }
   ],
   "source": [
    "msg = \"ABABABABABABABAB\"\n",
    "solution(msg)"
   ]
  },
  {
   "attachments": {},
   "cell_type": "markdown",
   "metadata": {},
   "source": [
    " ### https://school.programmers.co.kr/learn/courses/30/lessons/17687"
   ]
  },
  {
   "cell_type": "code",
   "execution_count": null,
   "metadata": {},
   "outputs": [],
   "source": []
  },
  {
   "cell_type": "code",
   "execution_count": 51,
   "metadata": {},
   "outputs": [],
   "source": [
    "def solution(n, t, m, p):\n",
    "    # n진수 생성기\n",
    "    resdic = ['0','1','2','3','4','5','6','7','8','9','A', 'B', 'C', 'D', 'E','F']\n",
    "    \n",
    "    def dfs(v, n):\n",
    "        if v==0:\n",
    "            return\n",
    "        else:\n",
    "            div, res = divmod(v,n)\n",
    "            dfs(div, n)\n",
    "            result.append(str(resdic[res]))\n",
    "    ## 숫자 만들기\n",
    "    numberlist = ['0']\n",
    "    number = 1\n",
    "    cnt = 1\n",
    "    while cnt < m*t: #O(m*t) < O(10^5)\n",
    "        # print(number)\n",
    "        result = []\n",
    "        dfs(number, n)\n",
    "        # result = ''.join(result)\n",
    "        # print(result)\n",
    "        cnt += len(result)\n",
    "        numberlist  = numberlist + result \n",
    "        number+=1\n",
    "\n",
    "    # print(numberlist)\n",
    "    \n",
    "    answer = \"\"\n",
    "    for i in range(t): #O(t) < O(10^3)\n",
    "        \n",
    "        answer +=numberlist[m*i+p-1]\n",
    "    # print(answer)\n",
    "\n",
    "\n",
    "    return answer"
   ]
  },
  {
   "cell_type": "code",
   "execution_count": 52,
   "metadata": {},
   "outputs": [
    {
     "data": {
      "text/plain": [
       "'13579BDF01234567'"
      ]
     },
     "execution_count": 52,
     "metadata": {},
     "output_type": "execute_result"
    }
   ],
   "source": [
    "n, t, m, p = 16,16,2,2\n",
    "solution(n, t, m,p)"
   ]
  },
  {
   "cell_type": "code",
   "execution_count": null,
   "metadata": {},
   "outputs": [],
   "source": []
  }
 ],
 "metadata": {
  "kernelspec": {
   "display_name": "base",
   "language": "python",
   "name": "python3"
  },
  "language_info": {
   "codemirror_mode": {
    "name": "ipython",
    "version": 3
   },
   "file_extension": ".py",
   "mimetype": "text/x-python",
   "name": "python",
   "nbconvert_exporter": "python",
   "pygments_lexer": "ipython3",
   "version": "3.9.12"
  },
  "orig_nbformat": 4
 },
 "nbformat": 4,
 "nbformat_minor": 2
}
