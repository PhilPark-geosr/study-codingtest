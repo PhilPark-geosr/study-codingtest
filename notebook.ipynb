{
 "cells": [
  {
   "cell_type": "code",
   "execution_count": 15,
   "metadata": {},
   "outputs": [],
   "source": [
    "def solution(msg):\n",
    "    import collections\n",
    "    # make q\n",
    "    q = collections.deque()\n",
    "    for char in msg: #O(n)\n",
    "        q.append(char)\n",
    "    # make a index dic\n",
    "    dic = dict()\n",
    "    min_idx = ord('A')\n",
    "    max_idx = ord('Z')\n",
    "    for i in range(1, 27):\n",
    "        dic[chr(min_idx+i-1)] = i\n",
    "\n",
    "    largest_idx = 26\n",
    "    answer = []\n",
    "    while q:\n",
    "        # print(q)\n",
    "        w = q.popleft()\n",
    "        c= \"\"\n",
    "        for i in range(len(q)):\n",
    "            if w + q[0] in dic:\n",
    "                w = w+ q[0]\n",
    "                q.popleft()\n",
    "            else:\n",
    "                c = q[0]\n",
    "                break\n",
    "        # print(w+c)\n",
    "        # 단어출력\n",
    "        answer.append(dic[w])\n",
    "        # 단어추가\n",
    "        dic[w+c] = largest_idx+1\n",
    "        largest_idx = largest_idx+1\n",
    "        \n",
    "\n",
    "    return answer"
   ]
  },
  {
   "cell_type": "code",
   "execution_count": 16,
   "metadata": {},
   "outputs": [
    {
     "data": {
      "text/plain": [
       "[1, 2, 27, 29, 28, 31, 30]"
      ]
     },
     "execution_count": 16,
     "metadata": {},
     "output_type": "execute_result"
    }
   ],
   "source": [
    "msg = \"ABABABABABABABAB\"\n",
    "solution(msg)"
   ]
  },
  {
   "attachments": {},
   "cell_type": "markdown",
   "metadata": {},
   "source": [
    " ### https://school.programmers.co.kr/learn/courses/30/lessons/17687"
   ]
  },
  {
   "cell_type": "code",
   "execution_count": null,
   "metadata": {},
   "outputs": [],
   "source": []
  },
  {
   "cell_type": "code",
   "execution_count": 51,
   "metadata": {},
   "outputs": [],
   "source": [
    "def solution(n, t, m, p):\n",
    "    # n진수 생성기\n",
    "    resdic = ['0','1','2','3','4','5','6','7','8','9','A', 'B', 'C', 'D', 'E','F']\n",
    "    \n",
    "    def dfs(v, n):\n",
    "        if v==0:\n",
    "            return\n",
    "        else:\n",
    "            div, res = divmod(v,n)\n",
    "            dfs(div, n)\n",
    "            result.append(str(resdic[res]))\n",
    "    ## 숫자 만들기\n",
    "    numberlist = ['0']\n",
    "    number = 1\n",
    "    cnt = 1\n",
    "    while cnt < m*t: #O(m*t) < O(10^5)\n",
    "        # print(number)\n",
    "        result = []\n",
    "        dfs(number, n)\n",
    "        # result = ''.join(result)\n",
    "        # print(result)\n",
    "        cnt += len(result)\n",
    "        numberlist  = numberlist + result \n",
    "        number+=1\n",
    "\n",
    "    # print(numberlist)\n",
    "    \n",
    "    answer = \"\"\n",
    "    for i in range(t): #O(t) < O(10^3)\n",
    "        \n",
    "        answer +=numberlist[m*i+p-1]\n",
    "    # print(answer)\n",
    "\n",
    "\n",
    "    return answer"
   ]
  },
  {
   "cell_type": "code",
   "execution_count": 52,
   "metadata": {},
   "outputs": [
    {
     "data": {
      "text/plain": [
       "'13579BDF01234567'"
      ]
     },
     "execution_count": 52,
     "metadata": {},
     "output_type": "execute_result"
    }
   ],
   "source": [
    "n, t, m, p = 16,16,2,2\n",
    "solution(n, t, m,p)"
   ]
  },
  {
   "cell_type": "code",
   "execution_count": 18,
   "metadata": {},
   "outputs": [],
   "source": [
    "def solution(files):\n",
    " \n",
    "    # Head , Number, Tail 구분하는 함수\n",
    "    def pre_process(word): #O(n)\n",
    "        # print(word)\n",
    "        min_ord = ord('0')\n",
    "        max_ord = ord('9')\n",
    "        head = \"\"\n",
    "        number = \"\"\n",
    "        tail = \"\"\n",
    "        for w in word:\n",
    "            # print(w)\n",
    "            if  min_ord <= ord(w) <=max_ord and len(tail)==0:\n",
    "                number +=w\n",
    "            else:\n",
    "                if len(number) ==0:\n",
    "                    head += w\n",
    "                else:\n",
    "                    tail += w\n",
    "\n",
    "        return head, number, tail\n",
    "            \n",
    "    tmp = []\n",
    "    for file in files:\n",
    "        tmp.append(pre_process(file))\n",
    "\n",
    "    # 정렬수행 O(nlogn)\n",
    "    tmp.sort(key = lambda x : (x[0].lower(), x[1].zfill(5))) # zfill : 자리수 맞춰서 비교하기 위함\n",
    "  \n",
    "    # ex : tmp = [('img', '1', '.png'), ('IMG', '01', '.GIF'), ('img', '02', '.png'), ('img', '2', '.JPG'), ('img', '10', '.png'), ('img', '12', '.png')]\n",
    "    # 결과 출력\n",
    "    result = []\n",
    "    for elem in tmp: #O(3*n) 이유 : join함수가 elem길이(3)에 비례\n",
    "        result.append(\"\".join(elem))\n",
    "\n",
    "    return result\n"
   ]
  },
  {
   "cell_type": "code",
   "execution_count": 20,
   "metadata": {},
   "outputs": [
    {
     "name": "stdout",
     "output_type": "stream",
     "text": [
      "[('img', '1', '.png'), ('IMG', '01', '.GIF'), ('img', '02', '.png'), ('img', '2', '.JPG'), ('img', '10', '.png'), ('img', '12', '.png')]\n"
     ]
    },
    {
     "data": {
      "text/plain": [
       "['img1.png', 'IMG01.GIF', 'img02.png', 'img2.JPG', 'img10.png', 'img12.png']"
      ]
     },
     "execution_count": 20,
     "metadata": {},
     "output_type": "execute_result"
    }
   ],
   "source": [
    "files = [\"img12.png\", \"img10.png\", \"img02.png\", \"img1.png\", \"IMG01.GIF\", \"img2.JPG\"]\n",
    "solution(files)\n",
    "\n",
    "\n",
    "# print(files)"
   ]
  },
  {
   "cell_type": "code",
   "execution_count": null,
   "metadata": {},
   "outputs": [],
   "source": []
  },
  {
   "cell_type": "code",
   "execution_count": null,
   "metadata": {},
   "outputs": [],
   "source": []
  }
 ],
 "metadata": {
  "kernelspec": {
   "display_name": "base",
   "language": "python",
   "name": "python3"
  },
  "language_info": {
   "codemirror_mode": {
    "name": "ipython",
    "version": 3
   },
   "file_extension": ".py",
   "mimetype": "text/x-python",
   "name": "python",
   "nbconvert_exporter": "python",
   "pygments_lexer": "ipython3",
   "version": "3.9.12"
  },
  "orig_nbformat": 4
 },
 "nbformat": 4,
 "nbformat_minor": 2
}
